{
 "cells": [
  {
   "cell_type": "markdown",
   "metadata": {},
   "source": [
    "* @file     : Bayes_Theorem.ipynb\n",
    "* @author   : Sinan KAMILCELEBI\n",
    "* @version  : V1.0.0\n",
    "* @date     : 11-April-2019\n",
    "* @brief    : Thomas Bayes Theorem Example.\n",
    "\n",
    "__Örnek Soru:__   \n",
    "Bir mühendis geliştirdiği bir sistem ile ürünleri test etmektedir. Bu sistem %99 oranında başarı ile bozuk ürünleri belirlemektedir. Bununla birlikte yapılan test işlemi %1 ihtimalle sağlam olan ürüne de bozuk demektedir. Tüm ürünlerin %X'i bozuk ise test sonucunda bozuk çıkan bir ürünün gerçekten bozuk olma olasılığı nedir? \n",
    "\n",
    "__Çözüm:__  \n",
    "A = Test edilen ürünün bozuk olma olasılığı.  \n",
    "B = Sonucun pozitif (bozuk) olma olasılığı.  \n",
    "X = Tüm ürünlerin bozuk yüzde değeri.\n",
    "\n",
    "P(A|B) = (P(B|A) * P(A)) / (((P(B|A) * P(A)) + (P(A|B) * P(B)))\n",
    "\n",
    "P(A|B) = ((0.99) * (X / 100)) / (((0.99) * (X / 100)) + ((0.01) * (1 - (X / 100))))\n",
    "\n",
    "__Açıklamalar:__   \n",
    "Yukarıdaki soruda bizden istenildiği üzere, sonucun bozuk olma olasılığı gerçekleştiğinde test edilen ürünün de bozuk olma olasılığını hesaplayacağız. (P(A|B))  \n",
    "\n",
    "İlk önce yukarıdaki formülde belirtildiği gibi pay kısmında test edilen ürünün bozuk olma olasılığı gerçekleştiğinde sonucun bozuk olma olasığı (0.99) ile test edilen ürünün bozuk olma olasılığını (X / 100) çarpıyoruz (P(B|A) * P(A)). \n",
    "\n",
    "Daha sonra ise payda kısmında tüm durum için yani hem test edilen ürünün bozuk olma olasılığı gerçekleştiğinde sonucun bozuk olma olasılığını (P(B|A) * P(A)) hem de test işleminin sonucu bozuk olduğunda test edilen ürünün bozuk olma olasılığını (P(A|B) * P(B)) hesaplıyoruz.   \n",
    "\n",
    "Son olarak da pay ve payda da elde ettiğimiz sonuçlarını birbirine oranladığımızda soruda bizden istenilen olasılık değerini elde etmiş oluyoruz. "
   ]
  },
  {
   "cell_type": "markdown",
   "metadata": {},
   "source": [
    "### __Örnek Soru:\n",
    "Bir mühendis geliştirdiği bir sistem ile ürünleri test etmektedir. Bu sistem %99 oranında başarı ile bozuk ürünleri belirlemektedir. Bununla birlikte yapılan test işlemi %1 ihtimalle sağlam olan ürüne de bozuk demektedir. Tüm ürünlerin %X'i bozuk ise test sonucunda bozuk çıkan bir ürünün gerçekten bozuk olma olasılığı nedir?"
   ]
  },
  {
   "cell_type": "code",
   "execution_count": 4,
   "metadata": {},
   "outputs": [
    {
     "name": "stdout",
     "output_type": "stream",
     "text": [
      "Lütfen tüm ürünlerin bozuk yüzdesini giriniz? % 0.5\n",
      "\n",
      "Tüm ürünlerin % 0.5 'i bozuk ise yapılan test işlemi sonucunda bozuk çıkan bir ürünün gerçekten bozuk olma olasılığı 0.33 dır.\n"
     ]
    }
   ],
   "source": [
    "Tum_Urunlerin_Bozuk_Yuzde_Degeri = input(\"Lütfen tüm ürünlerin bozuk yüzdesini giriniz? % \")\n",
    "\n",
    "X = float(Tum_Urunlerin_Bozuk_Yuzde_Degeri)\n",
    "\n",
    "Pay = ((0.99) * (X / 100))\n",
    "Payda = ((0.99) * (X / 100) + (0.01) * (1 - (X / 100))) \n",
    "\n",
    "Sonuc = (Pay / Payda)\n",
    "\n",
    "print(\"\\nTüm ürünlerin %\", X, \"'i bozuk ise yapılan test işlemi sonucunda bozuk çıkan bir ürünün gerçekten bozuk olma olasılığı\", round(Sonuc, 2), \"dır.\")"
   ]
  }
 ],
 "metadata": {
  "kernelspec": {
   "display_name": "Python 3",
   "language": "python",
   "name": "python3"
  },
  "language_info": {
   "codemirror_mode": {
    "name": "ipython",
    "version": 3
   },
   "file_extension": ".py",
   "mimetype": "text/x-python",
   "name": "python",
   "nbconvert_exporter": "python",
   "pygments_lexer": "ipython3",
   "version": "3.7.1"
  }
 },
 "nbformat": 4,
 "nbformat_minor": 2
}
