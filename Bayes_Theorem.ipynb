{
 "cells": [
  {
   "cell_type": "markdown",
   "metadata": {},
   "source": [
    "* @file     : Bayes_Theorem.ipynb\n",
    "* @author   : Sinan KAMILCELEBI\n",
    "* @version  : V1.0.1\n",
    "* @date     : 11-April-2019\n",
    "* @brief    : Thomas Bayes Theorem Example.\n",
    "\n",
    "__Örnek Soru:__   \n",
    "Bir mühendis geliştirdiği bir sistem ile ürünleri test etmektedir. Bu sistem %99 oranında başarı ile bozuk ürünleri belirlemektedir. Bununla birlikte yapılan test işlemi %1 ihtimalle sağlam olan ürüne de bozuk demektedir. Tüm ürünlerin %X'i bozuk ise test sonucunda bozuk çıkan bir ürünün gerçekten bozuk olma olasılığı nedir? \n",
    "\n",
    "__Çözüm:__  \n",
    "<b>A</b> = Test edilen ürünün bozuk olma olasılığı.  \n",
    "<b>B</b> = Sonucun pozitif (bozuk) olma olasılığı.  \n",
    "<b>X</b> = Tüm ürünlerin bozuk yüzde değeri.\n",
    "\n",
    "> Thomas Bayes teoreminin genel ifadesi:\n",
    "\n",
    "<p align = \"center\">\n",
    "<img src = \"bayes_theorem_function.jpg\" alt = \"Bayes Theorem Function\" title = \"Bayes Theorem Function\" width = \"400\" height = \"150\" />\n",
    "</p>\n",
    "\n",
    "<p align = \"center\">\n",
    "<img src = \"bayes_theorem_function_equations_I.jpg\" alt = \"Bayes Theorem Function Equations I\" title = \"Bayes Theorem Function Equations I\" width = \"600\" height = \"150\" />\n",
    "</p>\n",
    "\n",
    "<p align = \"center\">\n",
    "<img src = \"bayes_theorem_function_equations_II.jpg\" alt = \"Bayes Theorem Function Equations II\" title = \"Bayes Theorem Function Equations II\" width = \"600\" height = \"150\" />\n",
    "</p>\n",
    "\n",
    "__Açıklamalar:__   \n",
    "Yukarıdaki soruda bizden istenildiği üzere, sonucun bozuk olma olasılığı gerçekleştiğinde test edilen ürünün de bozuk olma olasılığını hesaplayacağız. <b>(P(A|B))</b>  \n",
    "\n",
    "İlk önce yukarıdaki formülde belirtildiği gibi pay kısmında test edilen ürünün bozuk olma olasılığı gerçekleştiğinde sonucun bozuk olma olasığı <b>(0.99)</b> ile test edilen ürünün bozuk olma olasılığını <b>(X / 100)</b> çarpıyoruz <b>(P(B|A) * P(A)).</b> \n",
    "\n",
    "Daha sonra ise payda kısmında tüm durum için yani hem test edilen ürünün bozuk olma olasılığı gerçekleştiğinde sonucun bozuk olma olasılığını <b>(P(B|A) * P(A))</b> hem de test işleminin sonucu bozuk olduğunda test edilen ürünün bozuk olma olasılığını <b>(P(A|B) * P(B))</b> hesaplıyoruz.   \n",
    "\n",
    "Son olarak da pay ve payda da elde ettiğimiz sonuçları birbirine oranladığımızda soruda bizden istenilen olasılık değerini elde etmiş oluyoruz. "
   ]
  },
  {
   "cell_type": "markdown",
   "metadata": {},
   "source": [
    "### Örnek Soru:\n",
    "Bir mühendis geliştirdiği bir sistem ile ürünleri test etmektedir. Bu sistem %99 oranında başarı ile bozuk ürünleri belirlemektedir. Bununla birlikte yapılan test işlemi %1 ihtimalle sağlam olan ürüne de bozuk demektedir. Tüm ürünlerin %X'i bozuk ise test sonucunda bozuk çıkan bir ürünün gerçekten bozuk olma olasılığı nedir?"
   ]
  },
  {
   "cell_type": "code",
   "execution_count": 2,
   "metadata": {},
   "outputs": [
    {
     "name": "stdout",
     "output_type": "stream",
     "text": [
      "Lütfen tüm ürünlerin bozuk yüzdesini giriniz? % 1\n",
      "\n",
      "Tüm ürünlerin % 1.0 'i bozuk ise yapılan test işlemi sonucunda bozuk çıkan bir ürünün gerçekten bozuk olma olasılığı 0.5 dır.\n"
     ]
    }
   ],
   "source": [
    "Tum_Urunlerin_Bozuk_Yuzde_Degeri = input(\"Lütfen tüm ürünlerin bozuk yüzdesini giriniz? % \")\n",
    "\n",
    "X = float(Tum_Urunlerin_Bozuk_Yuzde_Degeri)\n",
    "\n",
    "Pay = ((0.99) * (X / 100))\n",
    "Payda = ((0.99) * (X / 100) + (0.01) * (1 - (X / 100))) \n",
    "\n",
    "Sonuc = (Pay / Payda)\n",
    "\n",
    "print(\"\\nTüm ürünlerin %\", X, \"'i bozuk ise yapılan test işlemi sonucunda bozuk çıkan bir ürünün gerçekten bozuk olma olasılığı\", round(Sonuc, 2), \"dır.\")"
   ]
  }
 ],
 "metadata": {
  "kernelspec": {
   "display_name": "Python 3",
   "language": "python",
   "name": "python3"
  },
  "language_info": {
   "codemirror_mode": {
    "name": "ipython",
    "version": 3
   },
   "file_extension": ".py",
   "mimetype": "text/x-python",
   "name": "python",
   "nbconvert_exporter": "python",
   "pygments_lexer": "ipython3",
   "version": "3.7.1"
  }
 },
 "nbformat": 4,
 "nbformat_minor": 2
}
